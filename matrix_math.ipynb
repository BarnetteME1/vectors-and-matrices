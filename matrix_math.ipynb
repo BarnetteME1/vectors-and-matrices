{
 "cells": [
  {
   "cell_type": "code",
   "execution_count": 1,
   "metadata": {
    "collapsed": true
   },
   "outputs": [],
   "source": [
    "from functools import reduce\n",
    "\n",
    "class ShapeException(Exception):\n",
    "    pass\n",
    "\n",
    "\n",
    "def dot(vector_1, vector_2):\n",
    "    new_vector = []\n",
    "    if shape_exception_vxv(vector_1, vector_2) == True:\n",
    "        vec_len = range(0,len(vector_1))\n",
    "        for pos in vec_len:\n",
    "            new_vector.append(vector_1[pos]*vector_2[pos])\n",
    "    return reduce(lambda x, y: x+y, new_vector)\n",
    "\n",
    "\n",
    "def magnitude(vector):\n",
    "    scalar = 0\n",
    "    vector_len = len(vector)\n",
    "    for spot in range(0, vector_len):\n",
    "        scalar += (vector[spot] **2)\n",
    "    return (scalar **(1/2))\n",
    "\n",
    "\n",
    "def shape(vertrices):\n",
    "    length = []\n",
    "    column = []\n",
    "    length.append(len(vertrices))\n",
    "    for list in vertrices:\n",
    "        try:\n",
    "            column = (len(list))\n",
    "        except:\n",
    "            continue\n",
    "    if column != []:\n",
    "        length.append(column)\n",
    "    return tuple(length)\n",
    "\n",
    "\n",
    "def vector_add(vector_1, vector_2):\n",
    "    new_vector = []\n",
    "    if shape_exception_vxv(vector_1, vector_2) == True:\n",
    "        vec_len = range(0,len(vector_1))\n",
    "        for pos in vec_len:\n",
    "            new_vector.append(vector_1[pos] + vector_2[pos])\n",
    "    return new_vector\n",
    "\n",
    "\n",
    "def vector_sub(vector_1, vector_2):\n",
    "    new_vector = []\n",
    "    if shape_exception_vxv(vector_1, vector_2) == True:\n",
    "        vec_len = range(0,len(vector_1))\n",
    "        for pos in vec_len:\n",
    "            new_vector.append(vector_1[pos] - vector_2[pos])\n",
    "    return new_vector\n",
    "\n",
    "\n",
    "def vector_sum(*vectors):\n",
    "    vec_len = len(vectors[0])\n",
    "    posi = 0\n",
    "    new_vec = []\n",
    "    for pos in range(0, vec_len):\n",
    "        new_number = 0\n",
    "        for vector in vectors:\n",
    "            new_number += vector[pos]\n",
    "        new_vec.append(new_number)\n",
    "    return new_vec\n",
    "\n",
    "\n",
    "def vector_multiply(vector_1, scalar):\n",
    "    new_vector = []\n",
    "    vec_len = range(0,len(vector_1))\n",
    "    for pos in vec_len:\n",
    "        new_vector.append(vector_1[pos] *scalar)\n",
    "    return new_vector\n",
    "\n",
    "\n",
    "def vector_mean(*vectors):\n",
    "    new_vector = vector_sum(*vectors)\n",
    "    len_vectors = len(vectors)\n",
    "    multi_vector = vector_multiply(new_vector, (1/len_vectors))\n",
    "    return multi_vector\n",
    "\n",
    "\n",
    "def matrix_row(matrix, num):\n",
    "    return matrix[num]\n",
    "\n",
    "\n",
    "def matrix_col(matrix, num):\n",
    "    col = []\n",
    "    for line in matrix:\n",
    "        col.append(line[num])\n",
    "    return col\n",
    "\n",
    "\n",
    "def matrix_scalar_multiply(matrix, scalar):\n",
    "    new_matrix = []\n",
    "    for row in matrix:\n",
    "        new_row = 0\n",
    "        for column in row:\n",
    "            new_row += column * scalar\n",
    "        new_matrix.append(new_row)\n",
    "    return new_matrix\n",
    "\n",
    "\n",
    "def matrix_vector_multiply(matrix, vector):\n",
    "    len_vec = len(vector)\n",
    "    new_vec = []\n",
    "    for row in matrix:\n",
    "        number = 0\n",
    "        for pos in range(0,len_vec):\n",
    "            number += (vector[pos] * row[pos])\n",
    "        new_vec.append(number)\n",
    "    return new_vec\n",
    "\n",
    "\n",
    "def matrix_matrix_multiply(matrix_1, matrix_2):\n",
    "    new_matrix = []\n",
    "    len_m2_row = len(matrix_2[0])\n",
    "    len_m2_col = len(matrix_2)\n",
    "    len_m1_row = len(matrix_1[0])\n",
    "    len_m1_col = len(matrix_1)\n",
    "    new_m2 = []\n",
    "    for pos2 in range(len_m2_row):\n",
    "        new_m2_row = []\n",
    "        new_m2_row += matrix_col(matrix_2, pos2)\n",
    "        new_m2.append(new_m2_row)\n",
    "    for posit in range(0, len_m1_col):\n",
    "        new_row = []\n",
    "        for posi in range(0,len_m2_row):\n",
    "            new_num = 0\n",
    "            for pos in range(0, len_m1_row):\n",
    "                new_num += (matrix_1[posit][pos] * new_m2[posi][pos])\n",
    "            new_row.append(new_num)\n",
    "        new_matrix.append(new_row)\n",
    "    return new_matrix"
   ]
  },
  {
   "cell_type": "code",
   "execution_count": 5,
   "metadata": {
    "collapsed": false
   },
   "outputs": [],
   "source": [
    "m = [3, 4]\n",
    "n = [5, 0]\n",
    "\n",
    "v = [1, 3, 0]\n",
    "w = [0, 2, 4]\n",
    "u = [1, 1, 1]\n",
    "y = [10, 20, 30]\n",
    "z = [0, 0, 0]\n",
    "\n",
    "A = [[1, 0, 0],\n",
    "     [0, 1, 0],\n",
    "     [0, 0, 1]]\n",
    "B = [[1, 2, 3],\n",
    "     [4, 5, 6],\n",
    "     [7, 8, 9]]\n",
    "C = [[1, 2],\n",
    "     [2, 1],\n",
    "     [1, 2]]\n",
    "D = [[1, 2, 3],\n",
    "     [3, 2, 1]]\n",
    "\n",
    "E = [[3, 2],\n",
    "    [4, 1],\n",
    "    [0, 4]]\n",
    "F = [[2,1],\n",
    "    [3,0]]\n",
    "\n",
    "s = 2"
   ]
  },
  {
   "cell_type": "code",
   "execution_count": 382,
   "metadata": {
    "collapsed": false
   },
   "outputs": [],
   "source": [
    "def matrix_col(matrix, num):\n",
    "    col = []\n",
    "    for line in matrix:\n",
    "        col.append(line[num])\n",
    "    return col\n",
    "\n",
    "def matrix_matrix_multiply(matrix_1, matrix_2):\n",
    "    new_matrix = []\n",
    "    len_m2_row = len(matrix_2[0])\n",
    "    len_m2_col = len(matrix_2)\n",
    "    len_m1_row = len(matrix_1[0])\n",
    "    len_m1_col = len(matrix_1)\n",
    "    new_m2 = []\n",
    "    for pos2 in range(len_m2_row):\n",
    "        new_m2_row = []\n",
    "        new_m2_row += matrix_col(matrix_2, pos2)\n",
    "        new_m2.append(new_m2_row)\n",
    "    for posit in range(0, len_m1_col):\n",
    "        new_row = []\n",
    "        for posi in range(0,len_m2_row):\n",
    "            new_num = 0\n",
    "            for pos in range(0, len_m1_row):\n",
    "                new_num += (matrix_1[posit][pos] * new_m2[posi][pos])\n",
    "            new_row.append(new_num)\n",
    "        new_matrix.append(new_row)\n",
    "    return new_matrix"
   ]
  },
  {
   "cell_type": "code",
   "execution_count": 383,
   "metadata": {
    "collapsed": false
   },
   "outputs": [
    {
     "data": {
      "text/plain": [
       "[[12, 3], [11, 4], [12, 0]]"
      ]
     },
     "execution_count": 383,
     "metadata": {},
     "output_type": "execute_result"
    }
   ],
   "source": [
    "matrix_matrix_multiply(E, F)"
   ]
  },
  {
   "cell_type": "code",
   "execution_count": 388,
   "metadata": {
    "collapsed": false
   },
   "outputs": [
    {
     "name": "stdout",
     "output_type": "stream",
     "text": [
      "True\n",
      "True\n",
      "True\n",
      "True\n",
      "True\n"
     ]
    }
   ],
   "source": [
    "print(matrix_matrix_multiply(A, B) == B)\n",
    "print(matrix_matrix_multiply(B, C) == [[8, 10],\n",
    "                                            [20, 25],\n",
    "                                            [32, 40]])\n",
    "print(matrix_matrix_multiply(C, D) == [[7, 6, 5],\n",
    "                                            [5, 6, 7],\n",
    "                                            [7, 6, 5]])\n",
    "print(matrix_matrix_multiply(D, C) == [[8, 10], [8, 10]])\n",
    "print(matrix_matrix_multiply(E, F) == [[12,3],\n",
    "                                      [11, 4],\n",
    "                                      [12, 0]])"
   ]
  },
  {
   "cell_type": "code",
   "execution_count": 378,
   "metadata": {
    "collapsed": false
   },
   "outputs": [
    {
     "name": "stdout",
     "output_type": "stream",
     "text": [
      "[1, 0, 0]\n",
      "[0, 1, 0]\n",
      "[0, 0, 1]\n"
     ]
    }
   ],
   "source": [
    "print(matrix_col(A,0))\n",
    "print(matrix_col(A,1))\n",
    "print(matrix_col(A,2))"
   ]
  },
  {
   "cell_type": "code",
   "execution_count": 7,
   "metadata": {
    "collapsed": false
   },
   "outputs": [
    {
     "data": {
      "text/plain": [
       "(3,)"
      ]
     },
     "execution_count": 7,
     "metadata": {},
     "output_type": "execute_result"
    }
   ],
   "source": [
    "shape(z)"
   ]
  },
  {
   "cell_type": "code",
   "execution_count": null,
   "metadata": {
    "collapsed": true
   },
   "outputs": [],
   "source": []
  }
 ],
 "metadata": {
  "kernelspec": {
   "display_name": "Python 3",
   "language": "python",
   "name": "python3"
  },
  "language_info": {
   "codemirror_mode": {
    "name": "ipython",
    "version": 3
   },
   "file_extension": ".py",
   "mimetype": "text/x-python",
   "name": "python",
   "nbconvert_exporter": "python",
   "pygments_lexer": "ipython3",
   "version": "3.5.0"
  }
 },
 "nbformat": 4,
 "nbformat_minor": 0
}
