{
 "cells": [
  {
   "cell_type": "code",
   "execution_count": 58,
   "metadata": {
    "collapsed": true
   },
   "outputs": [],
   "source": [
    "from functools import reduce\n",
    "\n",
    "def dot(vector_1, vector_2):\n",
    "    new_vector = []\n",
    "    if shape(vector_1) != shape(vector_2):\n",
    "        raise ShapeException()\n",
    "    vec_len = range(0,len(vector_1))\n",
    "    for pos in vec_len:\n",
    "        new_vector.append(vector_1[pos]*vector_2[pos])\n",
    "    return reduce(lambda x, y: x+y, new_vector)\n",
    "\n",
    "\n",
    "def magnitude(vector):\n",
    "    scalar = 0\n",
    "    vector_len = len(vector)\n",
    "    for spot in range(0, vector_len):\n",
    "        scalar += (vector[spot] **2)\n",
    "    return (scalar **(1/2))\n",
    "\n",
    "\n",
    "def shape(vertrices):\n",
    "    length = []\n",
    "    column = []\n",
    "    length.append(len(vertrices))\n",
    "    for list in vertrices:\n",
    "        try:\n",
    "            column = (len(list))\n",
    "        except:\n",
    "            continue\n",
    "    if column != []:\n",
    "        length.append(column)\n",
    "    return tuple(length)\n",
    "\n",
    "\n",
    "def vector_add(vector_1, vector_2):\n",
    "    new_vector = []\n",
    "    if shape(vector_1) != shape(vector_2):\n",
    "        raise ShapeException()\n",
    "    vec_len = range(0,len(vector_1))\n",
    "    for pos in vec_len:\n",
    "        new_vector.append(vector_1[pos] + vector_2[pos])\n",
    "    return new_vector\n",
    "\n",
    "\n",
    "def vector_sub(vector_1, vector_2):\n",
    "    new_vector = []\n",
    "    if shape(vector_1) != shape(vector_2):\n",
    "        raise ShapeException()\n",
    "    vec_len = range(0,len(vector_1))\n",
    "    for pos in vec_len:\n",
    "        new_vector.append(vector_1[pos] - vector_2[pos])\n",
    "    return new_vector\n",
    "\n",
    "\n",
    "def vector_sum(*vectors):\n",
    "    vector_len = len(vectors)\n",
    "    for vect_num in range(0,vector_len-1):\n",
    "        if shape(vectors[vect_num]) != shape(vectors[vect_num+1]):\n",
    "            raise ShapeException()\n",
    "    posi = 0\n",
    "    new_vec = []\n",
    "    for pos in range(0, vector_len):\n",
    "        new_number = 0\n",
    "        for vector in vectors:\n",
    "            new_number += vector[pos]\n",
    "        new_vec.append(new_number)\n",
    "    return new_vec\n",
    "\n",
    "\n",
    "def vector_multiply(vector_1, scalar):\n",
    "    new_vector = []\n",
    "    vec_len = range(0,len(vector_1))\n",
    "    for pos in vec_len:\n",
    "        new_vector.append(vector_1[pos] *scalar)\n",
    "    return new_vector\n",
    "\n",
    "\n",
    "def vector_mean(*vectors):\n",
    "    new_vector = vector_sum(*vectors)\n",
    "    len_vectors = len(vectors)\n",
    "    multi_vector = vector_multiply(new_vector, (1/len_vectors))\n",
    "    return multi_vector\n",
    "\n",
    "\n",
    "def matrix_row(matrix, num):\n",
    "    return matrix[num]\n",
    "\n",
    "\n",
    "def matrix_col(matrix, num):\n",
    "    col = []\n",
    "    for line in matrix:\n",
    "        col.append(line[num])\n",
    "    return col\n",
    "\n",
    "\n",
    "def matrix_scalar_multiply(matrix, scalar):\n",
    "    new_matrix = []\n",
    "    for row in matrix:\n",
    "        new_row = 0\n",
    "        for column in row:\n",
    "            new_row += column * scalar\n",
    "        new_matrix.append(new_row)\n",
    "    return new_matrix\n",
    "\n",
    "\n",
    "def matrix_vector_multiply(matrix, vector):\n",
    "    len_vec = len(vector)\n",
    "    new_vec = []\n",
    "    if shape(matrix)[0] != shape(vector)[0]:\n",
    "        raise ShapeException()\n",
    "    else:\n",
    "        for row in matrix:\n",
    "            number = 0\n",
    "            for pos in range(0,len_vec):\n",
    "                number += (vector[pos] * row[pos])\n",
    "            new_vec.append(number)\n",
    "    return new_vec\n",
    "\n",
    "\n",
    "def matrix_matrix_multiply(matrix_1, matrix_2):\n",
    "    new_matrix = []\n",
    "    len_m2_row = len(matrix_2[0])\n",
    "    len_m2_col = len(matrix_2)\n",
    "    len_m1_row = len(matrix_1[0])\n",
    "    len_m1_col = len(matrix_1)\n",
    "    new_m2 = []\n",
    "    if shape(matrix_1) != shape(matrix_2):\n",
    "        raise ShapeException()\n",
    "    else:\n",
    "        for pos2 in range(len_m2_row):\n",
    "            new_m2_row = []\n",
    "            new_m2_row += matrix_col(matrix_2, pos2)\n",
    "            new_m2.append(new_m2_row)\n",
    "        for posit in range(0, len_m1_col):\n",
    "            new_row = []\n",
    "            for posi in range(0,len_m2_row):\n",
    "                new_num = 0\n",
    "                for pos in range(0, len_m1_row):\n",
    "                    new_num += (matrix_1[posit][pos] * new_m2[posi][pos])\n",
    "                new_row.append(new_num)\n",
    "            new_matrix.append(new_row)\n",
    "    return new_matrix"
   ]
  },
  {
   "cell_type": "code",
   "execution_count": 5,
   "metadata": {
    "collapsed": false
   },
   "outputs": [],
   "source": [
    "m = [3, 4]\n",
    "n = [5, 0]\n",
    "\n",
    "v = [1, 3, 0]\n",
    "w = [0, 2, 4]\n",
    "u = [1, 1, 1]\n",
    "y = [10, 20, 30]\n",
    "z = [0, 0, 0]\n",
    "\n",
    "A = [[1, 0, 0],\n",
    "     [0, 1, 0],\n",
    "     [0, 0, 1]]\n",
    "B = [[1, 2, 3],\n",
    "     [4, 5, 6],\n",
    "     [7, 8, 9]]\n",
    "C = [[1, 2],\n",
    "     [2, 1],\n",
    "     [1, 2]]\n",
    "D = [[1, 2, 3],\n",
    "     [3, 2, 1]]\n",
    "\n",
    "E = [[3, 2],\n",
    "    [4, 1],\n",
    "    [0, 4]]\n",
    "F = [[2,1],\n",
    "    [3,0]]\n",
    "\n",
    "s = 2"
   ]
  },
  {
   "cell_type": "code",
   "execution_count": 382,
   "metadata": {
    "collapsed": false
   },
   "outputs": [],
   "source": [
    "def matrix_col(matrix, num):\n",
    "    col = []\n",
    "    for line in matrix:\n",
    "        col.append(line[num])\n",
    "    return col\n",
    "\n",
    "def matrix_matrix_multiply(matrix_1, matrix_2):\n",
    "    new_matrix = []\n",
    "    len_m2_row = len(matrix_2[0])\n",
    "    len_m2_col = len(matrix_2)\n",
    "    len_m1_row = len(matrix_1[0])\n",
    "    len_m1_col = len(matrix_1)\n",
    "    new_m2 = []\n",
    "    for pos2 in range(len_m2_row):\n",
    "        new_m2_row = []\n",
    "        new_m2_row += matrix_col(matrix_2, pos2)\n",
    "        new_m2.append(new_m2_row)\n",
    "    for posit in range(0, len_m1_col):\n",
    "        new_row = []\n",
    "        for posi in range(0,len_m2_row):\n",
    "            new_num = 0\n",
    "            for pos in range(0, len_m1_row):\n",
    "                new_num += (matrix_1[posit][pos] * new_m2[posi][pos])\n",
    "            new_row.append(new_num)\n",
    "        new_matrix.append(new_row)\n",
    "    return new_matrix"
   ]
  },
  {
   "cell_type": "code",
   "execution_count": 383,
   "metadata": {
    "collapsed": false
   },
   "outputs": [
    {
     "data": {
      "text/plain": [
       "[[12, 3], [11, 4], [12, 0]]"
      ]
     },
     "execution_count": 383,
     "metadata": {},
     "output_type": "execute_result"
    }
   ],
   "source": [
    "matrix_matrix_multiply(E, F)"
   ]
  },
  {
   "cell_type": "code",
   "execution_count": 388,
   "metadata": {
    "collapsed": false
   },
   "outputs": [
    {
     "name": "stdout",
     "output_type": "stream",
     "text": [
      "True\n",
      "True\n",
      "True\n",
      "True\n",
      "True\n"
     ]
    }
   ],
   "source": [
    "print(matrix_matrix_multiply(A, B) == B)\n",
    "print(matrix_matrix_multiply(B, C) == [[8, 10],\n",
    "                                            [20, 25],\n",
    "                                            [32, 40]])\n",
    "print(matrix_matrix_multiply(C, D) == [[7, 6, 5],\n",
    "                                            [5, 6, 7],\n",
    "                                            [7, 6, 5]])\n",
    "print(matrix_matrix_multiply(D, C) == [[8, 10], [8, 10]])\n",
    "print(matrix_matrix_multiply(E, F) == [[12,3],\n",
    "                                      [11, 4],\n",
    "                                      [12, 0]])"
   ]
  },
  {
   "cell_type": "code",
   "execution_count": 378,
   "metadata": {
    "collapsed": false
   },
   "outputs": [
    {
     "name": "stdout",
     "output_type": "stream",
     "text": [
      "[1, 0, 0]\n",
      "[0, 1, 0]\n",
      "[0, 0, 1]\n"
     ]
    }
   ],
   "source": [
    "print(matrix_col(A,0))\n",
    "print(matrix_col(A,1))\n",
    "print(matrix_col(A,2))"
   ]
  },
  {
   "cell_type": "code",
   "execution_count": 22,
   "metadata": {
    "collapsed": false
   },
   "outputs": [
    {
     "ename": "TypeError",
     "evalue": "'int' object is not iterable",
     "output_type": "error",
     "traceback": [
      "\u001b[0;31m---------------------------------------------------------------------------\u001b[0m",
      "\u001b[0;31mTypeError\u001b[0m                                 Traceback (most recent call last)",
      "\u001b[0;32m<ipython-input-22-fbd646b8fd4a>\u001b[0m in \u001b[0;36m<module>\u001b[0;34m()\u001b[0m\n\u001b[0;32m----> 1\u001b[0;31m \u001b[0mtuple\u001b[0m\u001b[0;34m(\u001b[0m\u001b[0mshape\u001b[0m\u001b[0;34m(\u001b[0m\u001b[0mA\u001b[0m\u001b[0;34m)\u001b[0m\u001b[0;34m[\u001b[0m\u001b[0;36m0\u001b[0m\u001b[0;34m]\u001b[0m\u001b[0;34m,\u001b[0m\u001b[0;34m)\u001b[0m\u001b[0;34m\u001b[0m\u001b[0m\n\u001b[0m",
      "\u001b[0;31mTypeError\u001b[0m: 'int' object is not iterable"
     ]
    }
   ],
   "source": [
    "shape(A)[0]"
   ]
  },
  {
   "cell_type": "code",
   "execution_count": 14,
   "metadata": {
    "collapsed": false
   },
   "outputs": [
    {
     "ename": "ShapeException",
     "evalue": "",
     "output_type": "error",
     "traceback": [
      "\u001b[0;31m---------------------------------------------------------------------------\u001b[0m",
      "\u001b[0;31mShapeException\u001b[0m                            Traceback (most recent call last)",
      "\u001b[0;32m<ipython-input-14-cadf111d788f>\u001b[0m in \u001b[0;36m<module>\u001b[0;34m()\u001b[0m\n\u001b[0;32m----> 1\u001b[0;31m \u001b[0mdot\u001b[0m\u001b[0;34m(\u001b[0m\u001b[0mm\u001b[0m\u001b[0;34m,\u001b[0m \u001b[0mv\u001b[0m\u001b[0;34m)\u001b[0m\u001b[0;34m\u001b[0m\u001b[0m\n\u001b[0m",
      "\u001b[0;32m<ipython-input-12-039bd1a2cbdc>\u001b[0m in \u001b[0;36mdot\u001b[0;34m(vector_1, vector_2)\u001b[0m\n\u001b[1;32m     20\u001b[0m     \u001b[0mnew_vector\u001b[0m \u001b[0;34m=\u001b[0m \u001b[0;34m[\u001b[0m\u001b[0;34m]\u001b[0m\u001b[0;34m\u001b[0m\u001b[0m\n\u001b[1;32m     21\u001b[0m     \u001b[0;32mif\u001b[0m \u001b[0mshape\u001b[0m\u001b[0;34m(\u001b[0m\u001b[0mvector_1\u001b[0m\u001b[0;34m)\u001b[0m \u001b[0;34m!=\u001b[0m \u001b[0mshape\u001b[0m\u001b[0;34m(\u001b[0m\u001b[0mvector_2\u001b[0m\u001b[0;34m)\u001b[0m\u001b[0;34m:\u001b[0m\u001b[0;34m\u001b[0m\u001b[0m\n\u001b[0;32m---> 22\u001b[0;31m         \u001b[0;32mraise\u001b[0m \u001b[0mShapeException\u001b[0m\u001b[0;34m(\u001b[0m\u001b[0;34m)\u001b[0m\u001b[0;34m\u001b[0m\u001b[0m\n\u001b[0m\u001b[1;32m     23\u001b[0m     \u001b[0;32melse\u001b[0m\u001b[0;34m:\u001b[0m\u001b[0;34m\u001b[0m\u001b[0m\n\u001b[1;32m     24\u001b[0m         \u001b[0mvec_len\u001b[0m \u001b[0;34m=\u001b[0m \u001b[0mrange\u001b[0m\u001b[0;34m(\u001b[0m\u001b[0;36m0\u001b[0m\u001b[0;34m,\u001b[0m\u001b[0mlen\u001b[0m\u001b[0;34m(\u001b[0m\u001b[0mvector_1\u001b[0m\u001b[0;34m)\u001b[0m\u001b[0;34m)\u001b[0m\u001b[0;34m\u001b[0m\u001b[0m\n",
      "\u001b[0;31mShapeException\u001b[0m: "
     ]
    }
   ],
   "source": [
    "dot(m, v)"
   ]
  },
  {
   "cell_type": "code",
   "execution_count": 26,
   "metadata": {
    "collapsed": false
   },
   "outputs": [
    {
     "data": {
      "text/plain": [
       "[1, 3, 0]"
      ]
     },
     "execution_count": 26,
     "metadata": {},
     "output_type": "execute_result"
    }
   ],
   "source": [
    "matrix_vector_multiply(A, v)"
   ]
  },
  {
   "cell_type": "code",
   "execution_count": 50,
   "metadata": {
    "collapsed": false
   },
   "outputs": [],
   "source": [
    "def shape(vertrices):\n",
    "    length = []\n",
    "    column = []\n",
    "    length.append(len(vertrices))\n",
    "    for list in vertrices:\n",
    "        try:\n",
    "            column = (len(list))\n",
    "        except:\n",
    "            continue\n",
    "    if column != []:\n",
    "        length.append(column)\n",
    "    return tuple(length)\n",
    "\n",
    "def vector_sum(*vectors):\n",
    "    vector_len = len(vectors)\n",
    "    for vect_num in range(0,vector_len-1):\n",
    "        if shape(vectors[vect_num]) != shape(vectors[vect_num+1]):\n",
    "            raise ShapeException()"
   ]
  },
  {
   "cell_type": "code",
   "execution_count": 51,
   "metadata": {
    "collapsed": false
   },
   "outputs": [
    {
     "ename": "ShapeException",
     "evalue": "",
     "output_type": "error",
     "traceback": [
      "\u001b[0;31m---------------------------------------------------------------------------\u001b[0m",
      "\u001b[0;31mShapeException\u001b[0m                            Traceback (most recent call last)",
      "\u001b[0;32m<ipython-input-51-3c331e910054>\u001b[0m in \u001b[0;36m<module>\u001b[0;34m()\u001b[0m\n\u001b[0;32m----> 1\u001b[0;31m \u001b[0mvector_sum\u001b[0m\u001b[0;34m(\u001b[0m\u001b[0mn\u001b[0m\u001b[0;34m,\u001b[0m\u001b[0mv\u001b[0m\u001b[0;34m,\u001b[0m\u001b[0mw\u001b[0m\u001b[0;34m,\u001b[0m\u001b[0mu\u001b[0m\u001b[0;34m,\u001b[0m\u001b[0my\u001b[0m\u001b[0;34m,\u001b[0m\u001b[0mz\u001b[0m\u001b[0;34m)\u001b[0m\u001b[0;34m\u001b[0m\u001b[0m\n\u001b[0m",
      "\u001b[0;32m<ipython-input-50-936199dd0ac7>\u001b[0m in \u001b[0;36mvector_sum\u001b[0;34m(*vectors)\u001b[0m\n\u001b[1;32m     16\u001b[0m     \u001b[0;32mfor\u001b[0m \u001b[0mvect_num\u001b[0m \u001b[0;32min\u001b[0m \u001b[0mrange\u001b[0m\u001b[0;34m(\u001b[0m\u001b[0;36m0\u001b[0m\u001b[0;34m,\u001b[0m\u001b[0mvector_len\u001b[0m\u001b[0;34m-\u001b[0m\u001b[0;36m1\u001b[0m\u001b[0;34m)\u001b[0m\u001b[0;34m:\u001b[0m\u001b[0;34m\u001b[0m\u001b[0m\n\u001b[1;32m     17\u001b[0m         \u001b[0;32mif\u001b[0m \u001b[0mshape\u001b[0m\u001b[0;34m(\u001b[0m\u001b[0mvectors\u001b[0m\u001b[0;34m[\u001b[0m\u001b[0mvect_num\u001b[0m\u001b[0;34m]\u001b[0m\u001b[0;34m)\u001b[0m \u001b[0;34m!=\u001b[0m \u001b[0mshape\u001b[0m\u001b[0;34m(\u001b[0m\u001b[0mvectors\u001b[0m\u001b[0;34m[\u001b[0m\u001b[0mvect_num\u001b[0m\u001b[0;34m+\u001b[0m\u001b[0;36m1\u001b[0m\u001b[0;34m]\u001b[0m\u001b[0;34m)\u001b[0m\u001b[0;34m:\u001b[0m\u001b[0;34m\u001b[0m\u001b[0m\n\u001b[0;32m---> 18\u001b[0;31m             \u001b[0;32mraise\u001b[0m \u001b[0mShapeException\u001b[0m\u001b[0;34m(\u001b[0m\u001b[0;34m)\u001b[0m\u001b[0;34m\u001b[0m\u001b[0m\n\u001b[0m",
      "\u001b[0;31mShapeException\u001b[0m: "
     ]
    }
   ],
   "source": [
    "vector_sum(n,v,w,u,y,z)"
   ]
  },
  {
   "cell_type": "code",
   "execution_count": 55,
   "metadata": {
    "collapsed": false
   },
   "outputs": [
    {
     "ename": "ShapeException",
     "evalue": "",
     "output_type": "error",
     "traceback": [
      "\u001b[0;31m---------------------------------------------------------------------------\u001b[0m",
      "\u001b[0;31mShapeException\u001b[0m                            Traceback (most recent call last)",
      "\u001b[0;32m<ipython-input-55-d986a42dbfee>\u001b[0m in \u001b[0;36m<module>\u001b[0;34m()\u001b[0m\n\u001b[0;32m----> 1\u001b[0;31m \u001b[0mvector_add\u001b[0m\u001b[0;34m(\u001b[0m\u001b[0mm\u001b[0m\u001b[0;34m,\u001b[0m\u001b[0mv\u001b[0m\u001b[0;34m)\u001b[0m\u001b[0;34m\u001b[0m\u001b[0m\n\u001b[0m",
      "\u001b[0;32m<ipython-input-53-c7edd6202200>\u001b[0m in \u001b[0;36mvector_add\u001b[0;34m(vector_1, vector_2)\u001b[0m\n\u001b[1;32m     37\u001b[0m     \u001b[0mnew_vector\u001b[0m \u001b[0;34m=\u001b[0m \u001b[0;34m[\u001b[0m\u001b[0;34m]\u001b[0m\u001b[0;34m\u001b[0m\u001b[0m\n\u001b[1;32m     38\u001b[0m     \u001b[0;32mif\u001b[0m \u001b[0mshape\u001b[0m\u001b[0;34m(\u001b[0m\u001b[0mvector_1\u001b[0m\u001b[0;34m)\u001b[0m \u001b[0;34m!=\u001b[0m \u001b[0mshape\u001b[0m\u001b[0;34m(\u001b[0m\u001b[0mvector_2\u001b[0m\u001b[0;34m)\u001b[0m\u001b[0;34m:\u001b[0m\u001b[0;34m\u001b[0m\u001b[0m\n\u001b[0;32m---> 39\u001b[0;31m         \u001b[0;32mraise\u001b[0m \u001b[0mShapeException\u001b[0m\u001b[0;34m(\u001b[0m\u001b[0;34m)\u001b[0m\u001b[0;34m\u001b[0m\u001b[0m\n\u001b[0m\u001b[1;32m     40\u001b[0m     \u001b[0mvec_len\u001b[0m \u001b[0;34m=\u001b[0m \u001b[0mrange\u001b[0m\u001b[0;34m(\u001b[0m\u001b[0;36m0\u001b[0m\u001b[0;34m,\u001b[0m\u001b[0mlen\u001b[0m\u001b[0;34m(\u001b[0m\u001b[0mvector_1\u001b[0m\u001b[0;34m)\u001b[0m\u001b[0;34m)\u001b[0m\u001b[0;34m\u001b[0m\u001b[0m\n\u001b[1;32m     41\u001b[0m     \u001b[0;32mfor\u001b[0m \u001b[0mpos\u001b[0m \u001b[0;32min\u001b[0m \u001b[0mvec_len\u001b[0m\u001b[0;34m:\u001b[0m\u001b[0;34m\u001b[0m\u001b[0m\n",
      "\u001b[0;31mShapeException\u001b[0m: "
     ]
    }
   ],
   "source": []
  },
  {
   "cell_type": "code",
   "execution_count": 60,
   "metadata": {
    "collapsed": false
   },
   "outputs": [
    {
     "ename": "ShapeException",
     "evalue": "",
     "output_type": "error",
     "traceback": [
      "\u001b[0;31m---------------------------------------------------------------------------\u001b[0m",
      "\u001b[0;31mShapeException\u001b[0m                            Traceback (most recent call last)",
      "\u001b[0;32m<ipython-input-60-ee76719b79e2>\u001b[0m in \u001b[0;36m<module>\u001b[0;34m()\u001b[0m\n\u001b[0;32m----> 1\u001b[0;31m \u001b[0mvector_mean\u001b[0m\u001b[0;34m(\u001b[0m\u001b[0mm\u001b[0m\u001b[0;34m,\u001b[0m\u001b[0mv\u001b[0m\u001b[0;34m)\u001b[0m\u001b[0;34m\u001b[0m\u001b[0m\n\u001b[0m",
      "\u001b[0;32m<ipython-input-58-a200ad0ac3c0>\u001b[0m in \u001b[0;36mvector_mean\u001b[0;34m(*vectors)\u001b[0m\n\u001b[1;32m     77\u001b[0m \u001b[0;34m\u001b[0m\u001b[0m\n\u001b[1;32m     78\u001b[0m \u001b[0;32mdef\u001b[0m \u001b[0mvector_mean\u001b[0m\u001b[0;34m(\u001b[0m\u001b[0;34m*\u001b[0m\u001b[0mvectors\u001b[0m\u001b[0;34m)\u001b[0m\u001b[0;34m:\u001b[0m\u001b[0;34m\u001b[0m\u001b[0m\n\u001b[0;32m---> 79\u001b[0;31m     \u001b[0mnew_vector\u001b[0m \u001b[0;34m=\u001b[0m \u001b[0mvector_sum\u001b[0m\u001b[0;34m(\u001b[0m\u001b[0;34m*\u001b[0m\u001b[0mvectors\u001b[0m\u001b[0;34m)\u001b[0m\u001b[0;34m\u001b[0m\u001b[0m\n\u001b[0m\u001b[1;32m     80\u001b[0m     \u001b[0mlen_vectors\u001b[0m \u001b[0;34m=\u001b[0m \u001b[0mlen\u001b[0m\u001b[0;34m(\u001b[0m\u001b[0mvectors\u001b[0m\u001b[0;34m)\u001b[0m\u001b[0;34m\u001b[0m\u001b[0m\n\u001b[1;32m     81\u001b[0m     \u001b[0mmulti_vector\u001b[0m \u001b[0;34m=\u001b[0m \u001b[0mvector_multiply\u001b[0m\u001b[0;34m(\u001b[0m\u001b[0mnew_vector\u001b[0m\u001b[0;34m,\u001b[0m \u001b[0;34m(\u001b[0m\u001b[0;36m1\u001b[0m\u001b[0;34m/\u001b[0m\u001b[0mlen_vectors\u001b[0m\u001b[0;34m)\u001b[0m\u001b[0;34m)\u001b[0m\u001b[0;34m\u001b[0m\u001b[0m\n",
      "\u001b[0;32m<ipython-input-58-a200ad0ac3c0>\u001b[0m in \u001b[0;36mvector_sum\u001b[0;34m(*vectors)\u001b[0m\n\u001b[1;32m     57\u001b[0m     \u001b[0;32mfor\u001b[0m \u001b[0mvect_num\u001b[0m \u001b[0;32min\u001b[0m \u001b[0mrange\u001b[0m\u001b[0;34m(\u001b[0m\u001b[0;36m0\u001b[0m\u001b[0;34m,\u001b[0m\u001b[0mvector_len\u001b[0m\u001b[0;34m-\u001b[0m\u001b[0;36m1\u001b[0m\u001b[0;34m)\u001b[0m\u001b[0;34m:\u001b[0m\u001b[0;34m\u001b[0m\u001b[0m\n\u001b[1;32m     58\u001b[0m         \u001b[0;32mif\u001b[0m \u001b[0mshape\u001b[0m\u001b[0;34m(\u001b[0m\u001b[0mvectors\u001b[0m\u001b[0;34m[\u001b[0m\u001b[0mvect_num\u001b[0m\u001b[0;34m]\u001b[0m\u001b[0;34m)\u001b[0m \u001b[0;34m!=\u001b[0m \u001b[0mshape\u001b[0m\u001b[0;34m(\u001b[0m\u001b[0mvectors\u001b[0m\u001b[0;34m[\u001b[0m\u001b[0mvect_num\u001b[0m\u001b[0;34m+\u001b[0m\u001b[0;36m1\u001b[0m\u001b[0;34m]\u001b[0m\u001b[0;34m)\u001b[0m\u001b[0;34m:\u001b[0m\u001b[0;34m\u001b[0m\u001b[0m\n\u001b[0;32m---> 59\u001b[0;31m             \u001b[0;32mraise\u001b[0m \u001b[0mShapeException\u001b[0m\u001b[0;34m(\u001b[0m\u001b[0;34m)\u001b[0m\u001b[0;34m\u001b[0m\u001b[0m\n\u001b[0m\u001b[1;32m     60\u001b[0m     \u001b[0mposi\u001b[0m \u001b[0;34m=\u001b[0m \u001b[0;36m0\u001b[0m\u001b[0;34m\u001b[0m\u001b[0m\n\u001b[1;32m     61\u001b[0m     \u001b[0mnew_vec\u001b[0m \u001b[0;34m=\u001b[0m \u001b[0;34m[\u001b[0m\u001b[0;34m]\u001b[0m\u001b[0;34m\u001b[0m\u001b[0m\n",
      "\u001b[0;31mShapeException\u001b[0m: "
     ]
    }
   ],
   "source": [
    "vector_mean(m,v)"
   ]
  },
  {
   "cell_type": "code",
   "execution_count": null,
   "metadata": {
    "collapsed": true
   },
   "outputs": [],
   "source": []
  }
 ],
 "metadata": {
  "kernelspec": {
   "display_name": "Python 3",
   "language": "python",
   "name": "python3"
  },
  "language_info": {
   "codemirror_mode": {
    "name": "ipython",
    "version": 3
   },
   "file_extension": ".py",
   "mimetype": "text/x-python",
   "name": "python",
   "nbconvert_exporter": "python",
   "pygments_lexer": "ipython3",
   "version": "3.5.0"
  }
 },
 "nbformat": 4,
 "nbformat_minor": 0
}
