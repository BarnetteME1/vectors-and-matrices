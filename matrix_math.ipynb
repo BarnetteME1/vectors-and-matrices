{
 "cells": [
  {
   "cell_type": "code",
   "execution_count": 70,
   "metadata": {
    "collapsed": true
   },
   "outputs": [],
   "source": [
    "class ShapeException(Exception):\n",
    "    pass\n",
    "\n",
    "\n",
    "def dot(vector_1, vector_2):\n",
    "    new_vector = []\n",
    "    if shape_exception_vxv(vector_1, vector_2) == True:\n",
    "        vec_len = range(0,len(vector_1))\n",
    "        for pos in vec_len:\n",
    "            new_vector.append(vector_1[pos]*vector_2[pos])\n",
    "    return reduce(lambda x, y: x+y, new_vector)\n",
    "\n",
    "\n",
    "def magnitude():\n",
    "    pass\n",
    "\n",
    "\n",
    "def shape():\n",
    "    pass\n",
    "\n",
    "\n",
    "def vector_add(vector_1, vector_2):\n",
    "    new_vector = []\n",
    "    if shape_exception_vxv(vector_1, vector_2) == True:\n",
    "        vec_len = range(0,len(vector_1))\n",
    "        for pos in vec_len:\n",
    "            new_vector.append(vector_1[pos] + vector_2[pos])\n",
    "    return new_vector\n",
    "\n",
    "\n",
    "def vector_sub(vector_1, vector_2):\n",
    "    new_vector = []\n",
    "    if shape_exception_vxv(vector_1, vector_2) == True:\n",
    "        vec_len = range(0,len(vector_1))\n",
    "        for pos in vec_len:\n",
    "            new_vector.append(vector_1[pos] - vector_2[pos])\n",
    "    return new_vector\n",
    "\n",
    "\n",
    "def vector_sum():\n",
    "    pass\n",
    "\n",
    "\n",
    "def vector_multiply(vector_1, scalar):\n",
    "    new_vector = []\n",
    "    if shape_exception_vxv(vector_1, vector_2) == True:\n",
    "        vec_len = range(0,len(vector_1))\n",
    "        for pos in vec_len:\n",
    "            new_vector.append(vector_1[pos] - vector_2[pos])\n",
    "    return new_vector\n",
    "\n",
    "\n",
    "def vector_mean():\n",
    "    pass\n",
    "\n",
    "\n",
    "def matrix_row(matrix):\n",
    "    pass\n",
    "\n",
    "\n",
    "def matrix_col():\n",
    "    pass\n",
    "\n",
    "\n",
    "def matrix_vector_multiply(matrix, scalar):\n",
    "    new_matrix = []\n",
    "    for row in matrix:\n",
    "        new_row = 0\n",
    "        for column in row:\n",
    "            new_row += column * scalar\n",
    "        new_matrix.append(new_row)\n",
    "    return new_matrix\n",
    "\n",
    "\n",
    "def matrix_vector_multiply():\n",
    "    pass\n",
    "\n",
    "\n",
    "def matrix_matrix_multiply():\n",
    "    pass"
   ]
  },
  {
   "cell_type": "code",
   "execution_count": 92,
   "metadata": {
    "collapsed": false
   },
   "outputs": [],
   "source": [
    "from functools import reduce\n",
    "\n",
    "def vector_multiply(vector_1, scalar):\n",
    "    new_vector = []\n",
    "    if shape_exception_vxv(vector_1, vector_2) == True:\n",
    "        vec_len = range(0,len(vector_1))\n",
    "        for pos in vec_len:\n",
    "            new_vector.append(vector_1[pos] - vector_2[pos])\n",
    "    return new_vector"
   ]
  },
  {
   "cell_type": "code",
   "execution_count": 93,
   "metadata": {
    "collapsed": false
   },
   "outputs": [],
   "source": [
    "m = [3, 4]\n",
    "n = [5, 0]\n",
    "\n",
    "v = [1, 3, 0]\n",
    "w = [0, 2, 4]\n",
    "u = [1, 1, 1]\n",
    "y = [10, 20, 30]\n",
    "z = [0, 0, 0]\n",
    "\n",
    "A = [[1, 0, 0],\n",
    "     [0, 1, 0],\n",
    "     [0, 0, 1]]\n",
    "B = [[1, 2, 3],\n",
    "     [4, 5, 6],\n",
    "     [7, 8, 9]]\n",
    "C = [[1, 2],\n",
    "     [2, 1],\n",
    "     [1, 2]]\n",
    "D = [[1, 2, 3],\n",
    "     [3, 2, 1]]\n",
    "\n",
    "s = 2"
   ]
  },
  {
   "cell_type": "code",
   "execution_count": 94,
   "metadata": {
    "collapsed": false
   },
   "outputs": [
    {
     "name": "stdout",
     "output_type": "stream",
     "text": [
      "[2, 2, 2]\n"
     ]
    }
   ],
   "source": [
    "print(matrix_vector_multiply(A, s))"
   ]
  },
  {
   "cell_type": "code",
   "execution_count": 96,
   "metadata": {
    "collapsed": false
   },
   "outputs": [
    {
     "ename": "SyntaxError",
     "evalue": "invalid syntax (<ipython-input-96-08de51b7a6d4>, line 1)",
     "output_type": "error",
     "traceback": [
      "\u001b[0;36m  File \u001b[0;32m\"<ipython-input-96-08de51b7a6d4>\"\u001b[0;36m, line \u001b[0;32m1\u001b[0m\n\u001b[0;31m    print(assert dot(w, y) == 160)\u001b[0m\n\u001b[0m               ^\u001b[0m\n\u001b[0;31mSyntaxError\u001b[0m\u001b[0;31m:\u001b[0m invalid syntax\n"
     ]
    }
   ],
   "source": [
    "print(assert dot(w, y) == 160)"
   ]
  },
  {
   "cell_type": "code",
   "execution_count": 97,
   "metadata": {
    "collapsed": false
   },
   "outputs": [
    {
     "ename": "SyntaxError",
     "evalue": "invalid syntax (<ipython-input-97-c2831e730917>, line 1)",
     "output_type": "error",
     "traceback": [
      "\u001b[0;36m  File \u001b[0;32m\"<ipython-input-97-c2831e730917>\"\u001b[0;36m, line \u001b[0;32m1\u001b[0m\n\u001b[0;31m    dir(assert)\u001b[0m\n\u001b[0m             ^\u001b[0m\n\u001b[0;31mSyntaxError\u001b[0m\u001b[0;31m:\u001b[0m invalid syntax\n"
     ]
    }
   ],
   "source": [
    "dir(assert)"
   ]
  },
  {
   "cell_type": "code",
   "execution_count": null,
   "metadata": {
    "collapsed": true
   },
   "outputs": [],
   "source": []
  }
 ],
 "metadata": {
  "kernelspec": {
   "display_name": "Python 3",
   "language": "python",
   "name": "python3"
  },
  "language_info": {
   "codemirror_mode": {
    "name": "ipython",
    "version": 3
   },
   "file_extension": ".py",
   "mimetype": "text/x-python",
   "name": "python",
   "nbconvert_exporter": "python",
   "pygments_lexer": "ipython3",
   "version": "3.5.0"
  }
 },
 "nbformat": 4,
 "nbformat_minor": 0
}
