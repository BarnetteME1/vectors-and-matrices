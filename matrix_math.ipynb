{
 "cells": [
  {
   "cell_type": "code",
   "execution_count": 254,
   "metadata": {
    "collapsed": true
   },
   "outputs": [],
   "source": [
    "from functools import reduce\n",
    "\n",
    "class ShapeException(Exception):\n",
    "    pass\n",
    "\n",
    "\n",
    "def dot(vector_1, vector_2):\n",
    "    new_vector = []\n",
    "    if shape_exception_vxv(vector_1, vector_2) == True:\n",
    "        vec_len = range(0,len(vector_1))\n",
    "        for pos in vec_len:\n",
    "            new_vector.append(vector_1[pos]*vector_2[pos])\n",
    "    return reduce(lambda x, y: x+y, new_vector)\n",
    "\n",
    "\n",
    "def magnitude(vector):\n",
    "    scalar = 0\n",
    "    vector_len = len(vector)\n",
    "    for spot in range(0, vector_len):\n",
    "        scalar += (vector[spot] **2)\n",
    "    return (scalar **(1/2))\n",
    "\n",
    "\n",
    "def shape(vertrices):\n",
    "    length = []\n",
    "    column = []\n",
    "    length.append(len(vertrices))\n",
    "    for list in vertrices:\n",
    "        try:\n",
    "            column = (len(list))\n",
    "        except:\n",
    "            continue\n",
    "    if column != []:\n",
    "        length.append(column)\n",
    "    return tuple(length)\n",
    "\n",
    "\n",
    "def vector_add(vector_1, vector_2):\n",
    "    new_vector = []\n",
    "    if shape_exception_vxv(vector_1, vector_2) == True:\n",
    "        vec_len = range(0,len(vector_1))\n",
    "        for pos in vec_len:\n",
    "            new_vector.append(vector_1[pos] + vector_2[pos])\n",
    "    return new_vector\n",
    "\n",
    "\n",
    "def vector_sub(vector_1, vector_2):\n",
    "    new_vector = []\n",
    "    if shape_exception_vxv(vector_1, vector_2) == True:\n",
    "        vec_len = range(0,len(vector_1))\n",
    "        for pos in vec_len:\n",
    "            new_vector.append(vector_1[pos] - vector_2[pos])\n",
    "    return new_vector\n",
    "\n",
    "\n",
    "def vector_sum(*vectors):\n",
    "    vec_len = len(vectors[0])\n",
    "    posi = 0\n",
    "    new_vec = []\n",
    "    for pos in range(0, vec_len):\n",
    "        new_number = 0\n",
    "        for vector in vectors:\n",
    "            new_number += vector[pos]\n",
    "        new_vec.append(new_number)\n",
    "    return new_vec\n",
    "\n",
    "\n",
    "def vector_multiply(vector_1, scalar):\n",
    "    new_vector = []\n",
    "    vec_len = range(0,len(vector_1))\n",
    "    for pos in vec_len:\n",
    "        new_vector.append(vector_1[pos] *scalar)\n",
    "    return new_vector\n",
    "\n",
    "\n",
    "def vector_mean(*vectors):\n",
    "    new_vector = vector_sum(*vectors)\n",
    "    len_vectors = len(vectors)\n",
    "    multi_vector = vector_multiply(new_vector, (1/len_vectors))\n",
    "    return multi_vector\n",
    "\n",
    "\n",
    "def matrix_row(matrix, num):\n",
    "    return matrix[num]\n",
    "\n",
    "\n",
    "def matrix_col(matrix, num):\n",
    "    col = []\n",
    "    for line in matrix:\n",
    "        col.append(line[num])\n",
    "    return col\n",
    "\n",
    "\n",
    "def matrix_vector_multiply(matrix, scalar):\n",
    "    new_matrix = []\n",
    "    for row in matrix:\n",
    "        new_row = 0\n",
    "        for column in row:\n",
    "            new_row += column * scalar\n",
    "        new_matrix.append(new_row)\n",
    "    return new_matrix\n",
    "\n",
    "\n",
    "def matrix_matrix_multiply():\n",
    "    pass"
   ]
  },
  {
   "cell_type": "code",
   "execution_count": 252,
   "metadata": {
    "collapsed": false
   },
   "outputs": [],
   "source": [
    "m = [3, 4]\n",
    "n = [5, 0]\n",
    "\n",
    "v = [1, 3, 0]\n",
    "w = [0, 2, 4]\n",
    "u = [1, 1, 1]\n",
    "y = [10, 20, 30]\n",
    "z = [0, 0, 0]\n",
    "\n",
    "A = [[1, 0, 0],\n",
    "     [0, 1, 0],\n",
    "     [0, 0, 1]]\n",
    "B = [[1, 2, 3],\n",
    "     [4, 5, 6],\n",
    "     [7, 8, 9]]\n",
    "C = [[1, 2],\n",
    "     [2, 1],\n",
    "     [1, 2]]\n",
    "D = [[1, 2, 3],\n",
    "     [3, 2, 1]]\n",
    "\n",
    "s = 2"
   ]
  },
  {
   "cell_type": "code",
   "execution_count": 249,
   "metadata": {
    "collapsed": false
   },
   "outputs": [],
   "source": [
    "def matrix_matrix_multiply():\n",
    "    pass"
   ]
  },
  {
   "cell_type": "code",
   "execution_count": 250,
   "metadata": {
    "collapsed": false
   },
   "outputs": [
    {
     "data": {
      "text/plain": [
       "True"
      ]
     },
     "execution_count": 250,
     "metadata": {},
     "output_type": "execute_result"
    }
   ],
   "source": [
    "matrix_col(A, 0) == [1, 0, 0]\n",
    "matrix_col(B, 1) == [2, 5, 8]"
   ]
  },
  {
   "cell_type": "code",
   "execution_count": 253,
   "metadata": {
    "collapsed": false
   },
   "outputs": [
    {
     "ename": "TypeError",
     "evalue": "unsupported operand type(s) for +=: 'int' and 'list'",
     "output_type": "error",
     "traceback": [
      "\u001b[0;31m---------------------------------------------------------------------------\u001b[0m",
      "\u001b[0;31mTypeError\u001b[0m                                 Traceback (most recent call last)",
      "\u001b[0;32m<ipython-input-253-856883d7b938>\u001b[0m in \u001b[0;36m<module>\u001b[0;34m()\u001b[0m\n\u001b[0;32m----> 1\u001b[0;31m \u001b[0mmatrix_vector_multiply\u001b[0m\u001b[0;34m(\u001b[0m\u001b[0mB\u001b[0m\u001b[0;34m,\u001b[0m \u001b[0;34m[\u001b[0m\u001b[0;36m1\u001b[0m\u001b[0;34m,\u001b[0m \u001b[0;36m2\u001b[0m\u001b[0;34m,\u001b[0m \u001b[0;36m3\u001b[0m\u001b[0;34m]\u001b[0m\u001b[0;34m)\u001b[0m \u001b[0;34m==\u001b[0m \u001b[0;34m[\u001b[0m\u001b[0;36m14\u001b[0m\u001b[0;34m,\u001b[0m \u001b[0;36m32\u001b[0m\u001b[0;34m,\u001b[0m \u001b[0;36m50\u001b[0m\u001b[0;34m]\u001b[0m\u001b[0;34m\u001b[0m\u001b[0m\n\u001b[0m",
      "\u001b[0;32m<ipython-input-251-a66043b8a58e>\u001b[0m in \u001b[0;36mmatrix_vector_multiply\u001b[0;34m(matrix, scalar)\u001b[0m\n\u001b[1;32m     97\u001b[0m         \u001b[0mnew_row\u001b[0m \u001b[0;34m=\u001b[0m \u001b[0;36m0\u001b[0m\u001b[0;34m\u001b[0m\u001b[0m\n\u001b[1;32m     98\u001b[0m         \u001b[0;32mfor\u001b[0m \u001b[0mcolumn\u001b[0m \u001b[0;32min\u001b[0m \u001b[0mrow\u001b[0m\u001b[0;34m:\u001b[0m\u001b[0;34m\u001b[0m\u001b[0m\n\u001b[0;32m---> 99\u001b[0;31m             \u001b[0mnew_row\u001b[0m \u001b[0;34m+=\u001b[0m \u001b[0mcolumn\u001b[0m \u001b[0;34m*\u001b[0m \u001b[0mscalar\u001b[0m\u001b[0;34m\u001b[0m\u001b[0m\n\u001b[0m\u001b[1;32m    100\u001b[0m         \u001b[0mnew_matrix\u001b[0m\u001b[0;34m.\u001b[0m\u001b[0mappend\u001b[0m\u001b[0;34m(\u001b[0m\u001b[0mnew_row\u001b[0m\u001b[0;34m)\u001b[0m\u001b[0;34m\u001b[0m\u001b[0m\n\u001b[1;32m    101\u001b[0m     \u001b[0;32mreturn\u001b[0m \u001b[0mnew_matrix\u001b[0m\u001b[0;34m\u001b[0m\u001b[0m\n",
      "\u001b[0;31mTypeError\u001b[0m: unsupported operand type(s) for +=: 'int' and 'list'"
     ]
    }
   ],
   "source": [
    "matrix_vector_multiply(B, [1, 2, 3]) == [14, 32, 50]"
   ]
  },
  {
   "cell_type": "code",
   "execution_count": null,
   "metadata": {
    "collapsed": true
   },
   "outputs": [],
   "source": []
  }
 ],
 "metadata": {
  "kernelspec": {
   "display_name": "Python 3",
   "language": "python",
   "name": "python3"
  },
  "language_info": {
   "codemirror_mode": {
    "name": "ipython",
    "version": 3
   },
   "file_extension": ".py",
   "mimetype": "text/x-python",
   "name": "python",
   "nbconvert_exporter": "python",
   "pygments_lexer": "ipython3",
   "version": "3.5.0"
  }
 },
 "nbformat": 4,
 "nbformat_minor": 0
}
